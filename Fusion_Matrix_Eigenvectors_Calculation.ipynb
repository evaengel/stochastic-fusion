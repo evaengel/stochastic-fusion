{
 "cells": [
  {
   "cell_type": "code",
   "execution_count": 1,
   "id": "b945aef1",
   "metadata": {},
   "outputs": [
    {
     "name": "stdout",
     "output_type": "stream",
     "text": [
      "IPython console for SymPy 1.8 (Python 3.8.8-64-bit) (ground types: python)\n",
      "\n",
      "These commands were executed:\n",
      ">>> from __future__ import division\n",
      ">>> from sympy import *\n",
      ">>> x, y, z, t = symbols('x y z t')\n",
      ">>> k, m, n = symbols('k m n', integer=True)\n",
      ">>> f, g, h = symbols('f g h', cls=Function)\n",
      ">>> init_printing()\n",
      "\n",
      "Documentation can be found at https://docs.sympy.org/1.8/\n",
      "\n"
     ]
    }
   ],
   "source": [
    "from sympy import *\n",
    "from sympy.physics.quantum import TensorProduct\n",
    "init_session()"
   ]
  },
  {
   "cell_type": "code",
   "execution_count": 2,
   "id": "1c07db92",
   "metadata": {},
   "outputs": [],
   "source": [
    "#constructing generator matrix\n",
    "q = symbols('q')\n",
    "n = symbols('n')\n",
    "#q = 0.1\n",
    "n = 2\n",
    "L1 = Matrix([[-1*(q**(2*n-2)-q**(2*n-4)+(2/q**2)+((-q**(1-n)+q**(n-1))**2/q**2)+q**(2*n-2)-q**(2*n-4)+(2/q**2)),\n",
    "              q**(2*n-2)-q**(2*n-4)+(2/q**2),(-q**(1-n)+q**(n-1))**2/q**2,q**(2*n-2)-q**(2*n-4)+(2/q**2)],\n",
    "             \n",
    "             [q**(2*n)-q**(2*n-2)+2,\n",
    "              -1*(q**(2*n)-q**(2*n-2)+2+q**(-2*n)-q**(2-2*n)+2+(-q**(1-n)+q**(n-1))**2),\n",
    "              q**(-2*n)-q**(2-2*n)+2,(-q**(1-n)+q**(n-1))**2],\n",
    "             \n",
    "            [(q**2)*(-q**(1-n)+q**(n-1))**2,2*q**2+q**(2-2*n)-q**(4-2*n),\n",
    "             -1*(((q**2)*(-q**(1-n)+q**(n-1))**2)+2*q**2+q**(2-2*n)-q**(4-2*n)+2*q**2+q**(2-2*n)-q**(4-2*n)),\n",
    "             2*q**2+q**(2-2*n)-q**(4-2*n)],\n",
    "             \n",
    "            [q**(2*n)-q**(2*n-2)+2,(-q**(1-n)+q**(n-1))**2,q**(-2*n)-q**(2-2*n)+2,\n",
    "             -1*(q**(2*n)-q**(2*n-2)+2+(-q**(1-n)+q**(n-1))**2+q**(-2*n)-q**(2-2*n)+2)]\n",
    "            \n",
    "            ])\n",
    "\n",
    "L2 = Matrix([[-1*((q**(1-2*n))+(q**(2*n-1)))/q,((q**(1-2*n))+(q**(2*n-1)))/q],\n",
    "             [q*(q**(1-2*n)+q**(2*n-1)),-q*(q**(1-2*n)+q**(2*n-1))]])\n",
    "\n",
    "L2Piece = Matrix.diag(L2,L2)\n",
    "fullL2 = Matrix.diag(L2Piece,L2Piece)\n",
    "\n",
    "zeroMatrixPiece = Matrix.diag(Matrix([[0]]),Matrix([[0]]))\n",
    "fullZeroMatrix = Matrix.diag(zeroMatrixPiece,zeroMatrixPiece)\n",
    "\n",
    "firstPiece = Matrix.diag(L1,fullL2)\n",
    "\n",
    "generatorMatrix = Matrix.diag(firstPiece,fullZeroMatrix)\n",
    "\n",
    "#generatorMatrix\n"
   ]
  },
  {
   "cell_type": "code",
   "execution_count": 3,
   "id": "4b995090",
   "metadata": {},
   "outputs": [],
   "source": [
    "#Lambda and Phi\n",
    "lambdaMatrix = Matrix([\n",
    "    [0,0,0,0,0,0,0,0,0,0,0,0,1,0,0,0],\n",
    "    [0,0,0,0,q**2/(q**2+1),1/(q**2+1),0,0,0,0,0,0,0,0,0,0],\n",
    "    [0,0,0,0,0,0,q**2/(q**2+1),1/(q**2+1),0,0,0,0,0,0,0,0],\n",
    "    [0,0,0,0,0,0,0,0,0,0,0,0,0,1,0,0],\n",
    "    [q**4/(1+q**2)**2,q**2/(1+q**2)**2,1/(1+q**2)**2,q**2/(1+q**2)**2,0,0,0,0,0,0,0,0,0,0,0,0],\n",
    "    [0,0,0,0,0,0,0,0,0,0,0,0,0,0,1,0],\n",
    "    [0,0,0,0,0,0,0,0,q**2/(q**2+1),1/(q**2+1),0,0,0,0,0,0],\n",
    "    [0,0,0,0,0,0,0,0,0,0,q**2/(q**2+1),1/(q**2+1),0,0,0,0],\n",
    "    [0,0,0,0,0,0,0,0,0,0,0,0,0,0,0,1]\n",
    "])\n",
    "\n",
    "phiMatrix = Matrix([\n",
    "    [0,0,0,0,1,0,0,0,0],\n",
    "    [0,0,0,0,1,0,0,0,0],\n",
    "    [0,0,0,0,1,0,0,0,0],\n",
    "    [0,0,0,0,1,0,0,0,0],\n",
    "    [0,1,0,0,0,0,0,0,0],\n",
    "    [0,1,0,0,0,0,0,0,0],\n",
    "    [0,0,1,0,0,0,0,0,0],\n",
    "    [0,0,1,0,0,0,0,0,0],\n",
    "    [0,0,0,0,0,0,1,0,0],\n",
    "    [0,0,0,0,0,0,1,0,0],\n",
    "    [0,0,0,0,0,0,0,1,0],\n",
    "    [0,0,0,0,0,0,0,1,0],\n",
    "    [1,0,0,0,0,0,0,0,0],\n",
    "    [0,0,0,1,0,0,0,0,0],\n",
    "    [0,0,0,0,0,1,0,0,0],\n",
    "    [0,0,0,0,0,0,0,0,1],\n",
    "])\n",
    "\n",
    "tensorLambda = TensorProduct(lambdaMatrix,lambdaMatrix)\n",
    "tensorPhi = TensorProduct(phiMatrix,phiMatrix)"
   ]
  },
  {
   "cell_type": "code",
   "execution_count": 4,
   "id": "6fdfcbdb",
   "metadata": {},
   "outputs": [],
   "source": [
    "#Middle Generator Constructor\n",
    "generatorList = ['30','21','03','12','10','01','20','02','31','13','32','23','00','11','22','33']\n",
    "generatorListWord = ['TZ','WO','ZT','OW','OZ','ZO','WZ','ZW','TO','OT','TW','WT','ZZ','OO','WW','TT']\n",
    "\n",
    "megaGeneratorListNum = string_list = [\"String {}\".format(i) for i in range(256)]\n",
    "megaGeneratorList = string_list = [\"String {}\".format(i) for i in range(256)]\n",
    "\n",
    "for i in range(16):\n",
    "    for j in range(16):\n",
    "        megaGeneratorListNum[16*i+j] = generatorList[i] + generatorList[j]\n",
    "        megaGeneratorList[16*i+j] = generatorListWord[i] + generatorListWord[j]\n",
    "\n",
    "megaGeneratorMatrix = zeros(256, 256)\n",
    "\n",
    "#print(megaGeneratorListNum)\n",
    "\n",
    "for i in range(256):\n",
    "    for j in range(256):\n",
    "        if megaGeneratorList[i][0] == megaGeneratorList[j][0] and megaGeneratorList[i][3] == megaGeneratorList[j][3]:\n",
    "            megaGeneratorMatrix[i,j] = generatorMatrix[generatorListWord.index(megaGeneratorList[i][1:3]),generatorListWord.index(megaGeneratorList[j][1:3])]\n",
    "        else:\n",
    "            megaGeneratorMatrix[i,j] = 0\n",
    "\n",
    "fusionMatrix = tensorLambda*megaGeneratorMatrix*tensorPhi\n",
    "\n",
    "simplifyFusionMatrix = fusionMatrix.applyfunc(simplify)\n",
    "\n",
    "#simplifyFusionMatrix\n",
    "#simplifyFusionMatrix = fusionMatrix.simplify_full()"
   ]
  },
  {
   "cell_type": "code",
   "execution_count": 5,
   "id": "b8101411",
   "metadata": {},
   "outputs": [
    {
     "data": {
      "text/latex": [
       "$\\displaystyle \\left[ \\left( 0, \\  1, \\  \\left[ \\left[\\begin{matrix}\\frac{1}{q^{4}}\\\\1\\end{matrix}\\right]\\right]\\right), \\  \\left( \\frac{- q^{8} + q^{6} - 2 q^{4} + q^{2} - 1}{q^{4}}, \\  1, \\  \\left[ \\left[\\begin{matrix}-1\\\\1\\end{matrix}\\right]\\right]\\right)\\right]$"
      ],
      "text/plain": [
       "⎡⎛      ⎡⎡1 ⎤⎤⎞                                        ⎤\n",
       "⎢⎜      ⎢⎢──⎥⎥⎟  ⎛   8    6      4    2               ⎞⎥\n",
       "⎢⎜      ⎢⎢ 4⎥⎥⎟  ⎜- q  + q  - 2⋅q  + q  - 1     ⎡⎡-1⎤⎤⎟⎥\n",
       "⎢⎜0, 1, ⎢⎢q ⎥⎥⎟, ⎜─────────────────────────, 1, ⎢⎢  ⎥⎥⎟⎥\n",
       "⎢⎜      ⎢⎢  ⎥⎥⎟  ⎜             4                ⎣⎣1 ⎦⎦⎟⎥\n",
       "⎣⎝      ⎣⎣1 ⎦⎦⎠  ⎝            q                       ⎠⎦"
      ]
     },
     "execution_count": 5,
     "metadata": {},
     "output_type": "execute_result"
    }
   ],
   "source": [
    "#communicating classes extraction\n",
    "import numpy as np\n",
    "#making the ordering of the file\n",
    "fusionList = ['0','1','2','11','3','22','31','32','33']\n",
    "megaFusionList = string_list = [\"String {}\".format(i) for i in range(81)]\n",
    "\n",
    "for i in range(9):\n",
    "    for j in range(9):\n",
    "        megaFusionList[9*i+j] = fusionList[i] + '_' + fusionList[j]\n",
    "\n",
    "#extracting communicating block\n",
    "communicationList = ['0_1','1_0']\n",
    "#communicationList = ['1_1','0_11','11_0']\n",
    "#communicationList = ['3_0','1_2','2_1','0_3']\n",
    "#communicationList = ['1_3','3_1','0_31','31_0','2_11','11_2']\n",
    "#communicationList = ['3_3','0_33','33_0','1_32','32_1','2_31','31_2','11_22','22_11']\n",
    "\n",
    "indexList = []\n",
    "for item in communicationList:\n",
    "    indexList.append(megaFusionList.index(item))\n",
    "\n",
    "communicatingBlock = simplifyFusionMatrix[indexList,indexList]\n",
    "\n",
    "communicatingBlock = communicatingBlock.T\n",
    "\n",
    "communicatingEigenVec = communicatingBlock.eigenvects()\n",
    "#communicatingEigenVec = communicatingBlock.nullspace()\n",
    "\n",
    "communicatingEigenVec"
   ]
  },
  {
   "cell_type": "code",
   "execution_count": 6,
   "id": "28e792bc",
   "metadata": {},
   "outputs": [
    {
     "data": {
      "text/latex": [
       "$\\displaystyle \\left[\\begin{matrix}\\frac{- 2 q^{8} - 2 q^{6} + q^{4} - 4 q^{2} - 1}{q^{8} + 2 q^{6} + q^{4}} & \\frac{q^{6} + q^{2} \\left(q^{2} - 1\\right) + 3}{q^{2} \\left(q^{2} + 1\\right)^{2}} & \\frac{q^{6} + q^{2} \\left(q^{2} - 1\\right) + 3}{q^{2} \\left(q^{2} + 1\\right)^{2}} & \\frac{\\left(q^{2} - 1\\right)^{2}}{q^{4} \\left(q^{2} + 1\\right)^{2}}\\\\\\frac{q^{2} \\left(q^{6} + q^{4} - q^{2} + 3\\right)}{\\left(q^{2} + 1\\right)^{2}} & - \\frac{q^{12} + q^{10} + 4 q^{6} + q^{2} + 1}{q^{8} + 2 q^{6} + q^{4}} & \\frac{\\left(q^{2} - 1\\right)^{2}}{\\left(q^{2} + 1\\right)^{2}} & \\frac{3 q^{6} - q^{4} + q^{2} + 1}{q^{4} \\left(q^{2} + 1\\right)^{2}}\\\\\\frac{q^{2} \\left(q^{6} + q^{4} - q^{2} + 3\\right)}{\\left(q^{2} + 1\\right)^{2}} & \\frac{\\left(q^{2} - 1\\right)^{2}}{\\left(q^{2} + 1\\right)^{2}} & - \\frac{q^{12} + q^{10} + 4 q^{6} + q^{2} + 1}{q^{8} + 2 q^{6} + q^{4}} & \\frac{3 q^{6} - q^{4} + q^{2} + 1}{q^{4} \\left(q^{2} + 1\\right)^{2}}\\\\\\frac{q^{4} \\left(q^{2} - 1\\right)^{2}}{\\left(q^{2} + 1\\right)^{2}} & \\frac{3 q^{6} - q^{4} + q^{2} + 1}{q^{4} + 2 q^{2} + 1} & \\frac{3 q^{6} - q^{4} + q^{2} + 1}{q^{4} + 2 q^{2} + 1} & \\frac{- q^{8} - 4 q^{6} + q^{4} - 2 q^{2} - 2}{q^{4} + 2 q^{2} + 1}\\end{matrix}\\right]$"
      ],
      "text/plain": [
       "⎡                                                                             \n",
       "⎢     8      6    4      2           6    2 ⎛ 2    ⎞                6    2 ⎛ 2\n",
       "⎢- 2⋅q  - 2⋅q  + q  - 4⋅q  - 1      q  + q ⋅⎝q  - 1⎠ + 3           q  + q ⋅⎝q \n",
       "⎢─────────────────────────────      ────────────────────           ───────────\n",
       "⎢         8      6    4                            2                          \n",
       "⎢        q  + 2⋅q  + q                   2 ⎛ 2    ⎞                     2 ⎛ 2 \n",
       "⎢                                       q ⋅⎝q  + 1⎠                    q ⋅⎝q  \n",
       "⎢                                                                             \n",
       "⎢                                                                             \n",
       "⎢     2 ⎛ 6    4    2    ⎞       ⎛ 12    10      6    2    ⎞             ⎛ 2  \n",
       "⎢    q ⋅⎝q  + q  - q  + 3⎠      -⎝q   + q   + 4⋅q  + q  + 1⎠             ⎝q  -\n",
       "⎢    ─────────────────────      ─────────────────────────────            ─────\n",
       "⎢                  2                     8      6    4                        \n",
       "⎢          ⎛ 2    ⎞                     q  + 2⋅q  + q                    ⎛ 2  \n",
       "⎢          ⎝q  + 1⎠                                                      ⎝q  +\n",
       "⎢                                                                             \n",
       "⎢                                                 2                           \n",
       "⎢     2 ⎛ 6    4    2    ⎞                ⎛ 2    ⎞              ⎛ 12    10    \n",
       "⎢    q ⋅⎝q  + q  - q  + 3⎠                ⎝q  - 1⎠             -⎝q   + q   + 4\n",
       "⎢    ─────────────────────                ─────────            ───────────────\n",
       "⎢                  2                              2                     8     \n",
       "⎢          ⎛ 2    ⎞                       ⎛ 2    ⎞                     q  + 2⋅\n",
       "⎢          ⎝q  + 1⎠                       ⎝q  + 1⎠                            \n",
       "⎢                                                                             \n",
       "⎢                   2                                                         \n",
       "⎢         4 ⎛ 2    ⎞                    6    4    2                    6    4 \n",
       "⎢        q ⋅⎝q  - 1⎠                 3⋅q  - q  + q  + 1             3⋅q  - q  \n",
       "⎢        ────────────                ──────────────────             ──────────\n",
       "⎢                 2                     4      2                       4      \n",
       "⎢         ⎛ 2    ⎞                     q  + 2⋅q  + 1                  q  + 2⋅q\n",
       "⎣         ⎝q  + 1⎠                                                            \n",
       "\n",
       "                                2          ⎤\n",
       "    ⎞                   ⎛ 2    ⎞           ⎥\n",
       " - 1⎠ + 3               ⎝q  - 1⎠           ⎥\n",
       "─────────              ────────────        ⎥\n",
       "    2                             2        ⎥\n",
       "   ⎞                    4 ⎛ 2    ⎞         ⎥\n",
       "+ 1⎠                   q ⋅⎝q  + 1⎠         ⎥\n",
       "                                           ⎥\n",
       "   2                                       ⎥\n",
       "  ⎞                    6    4    2         ⎥\n",
       " 1⎠                 3⋅q  - q  + q  + 1     ⎥\n",
       "────                ──────────────────     ⎥\n",
       "   2                              2        ⎥\n",
       "  ⎞                     4 ⎛ 2    ⎞         ⎥\n",
       " 1⎠                    q ⋅⎝q  + 1⎠         ⎥\n",
       "                                           ⎥\n",
       "                                           ⎥\n",
       "  6    2    ⎞          6    4    2         ⎥\n",
       "⋅q  + q  + 1⎠       3⋅q  - q  + q  + 1     ⎥\n",
       "──────────────      ──────────────────     ⎥\n",
       " 6    4                           2        ⎥\n",
       "q  + q                  4 ⎛ 2    ⎞         ⎥\n",
       "                       q ⋅⎝q  + 1⎠         ⎥\n",
       "                                           ⎥\n",
       "                                           ⎥\n",
       "   2               8      6    4      2    ⎥\n",
       "+ q  + 1        - q  - 4⋅q  + q  - 2⋅q  - 2⎥\n",
       "────────        ───────────────────────────⎥\n",
       "2                       4      2           ⎥\n",
       "  + 1                  q  + 2⋅q  + 1       ⎥\n",
       "                                           ⎦"
      ]
     },
     "execution_count": 6,
     "metadata": {},
     "output_type": "execute_result"
    }
   ],
   "source": [
    "#communicatingEigenVec[0][2][0].applyfunc(simplify)\n",
    "\n",
    "#communicating classes extraction\n",
    "import numpy as np\n",
    "#making the ordering of the file\n",
    "fusionList = ['0','1','2','11','3','22','31','32','33']\n",
    "megaFusionList = string_list = [\"String {}\".format(i) for i in range(81)]\n",
    "\n",
    "for i in range(9):\n",
    "    for j in range(9):\n",
    "        megaFusionList[9*i+j] = fusionList[i] + '_' + fusionList[j]\n",
    "\n",
    "#extracting communicating block\n",
    "#communicationList = ['0_1','1_0']\n",
    "#communicationList = ['1_1','0_11','11_0']\n",
    "communicationList = ['3_0','1_2','2_1','0_3']\n",
    "#communicationList = ['1_3','3_1','0_31','31_0','2_11','11_2']\n",
    "#communicationList = ['3_3','0_33','33_0','1_32','32_1','2_31','31_2','11_22','22_11']\n",
    "\n",
    "indexList = []\n",
    "for item in communicationList:\n",
    "    indexList.append(megaFusionList.index(item))\n",
    "\n",
    "communicatingBlock = simplifyFusionMatrix[indexList,indexList]\n",
    "\n",
    "communicatingBlock = communicatingBlock\n",
    "\n",
    "communicatingBlock = communicatingBlock\n",
    "\n",
    "communicatingEigenVec = communicatingBlock.eigenvects()\n",
    "#communicatingEigenVec = communicatingBlock.nullspace()\n",
    "\n",
    "#communicatingEigenVec\n",
    "communicatingBlock"
   ]
  },
  {
   "cell_type": "code",
   "execution_count": 7,
   "id": "67ea52f1",
   "metadata": {},
   "outputs": [
    {
     "name": "stdout",
     "output_type": "stream",
     "text": [
      "\\left[\\begin{matrix}1 + \\frac{1}{q^{8}} + \\frac{1}{q^{16}} & 1 - \\frac{q^{4} - 1}{q^{8}} - \\frac{1}{q^{12}} & 1 - \\frac{1}{q^{12}} & 1 - \\frac{1}{q^{4}} + \\frac{1}{q^{8}}\\\\1 - \\frac{q^{4} - 1}{q^{8}} - \\frac{1}{q^{12}} & 2 + \\frac{\\left(q^{4} - 1\\right)^{2}}{q^{8}} + \\frac{1}{q^{8}} & \\frac{1}{q^{8}} & 1 + \\frac{q^{4} - 1}{q^{4}} - \\frac{1}{q^{4}}\\\\1 - \\frac{1}{q^{12}} & \\frac{1}{q^{8}} & 2 + \\frac{1}{q^{8}} & 1 - \\frac{1}{q^{4}}\\\\1 - \\frac{1}{q^{4}} + \\frac{1}{q^{8}} & 1 + \\frac{q^{4} - 1}{q^{4}} - \\frac{1}{q^{4}} & 1 - \\frac{1}{q^{4}} & 3\\end{matrix}\\right]\n"
     ]
    }
   ],
   "source": [
    "matrixList = []\n",
    "for i in range(len(communicatingEigenVec)):\n",
    "    for j in range(communicatingEigenVec[i][1]):\n",
    "        matrixList.append(communicatingEigenVec[i][2][j].transpose().tolist()[0])\n",
    "eigenVecMatrix = Matrix(matrixList).transpose()\n",
    "print(latex(eigenVecMatrix*eigenVecMatrix.transpose()))"
   ]
  },
  {
   "cell_type": "code",
   "execution_count": 8,
   "id": "2dea4141",
   "metadata": {},
   "outputs": [
    {
     "data": {
      "image/png": "[encoded data removed]",
      "text/latex": [
       "$\\displaystyle \\frac{- q^{12} - 3 q^{8} - 3 q^{4} - 1}{q^{12}}$"
      ],
      "text/plain": [
       "   12      8      4    \n",
       "- q   - 3⋅q  - 3⋅q  - 1\n",
       "───────────────────────\n",
       "           12          \n",
       "          q            "
      ]
     },
     "execution_count": 8,
     "metadata": {},
     "output_type": "execute_result"
    }
   ],
   "source": [
    "eigenVecMatrix.det()\n",
    "#print(latex(eigenVecMatrix))"
   ]
  },
  {
   "cell_type": "code",
   "execution_count": 9,
   "id": "bbb44263",
   "metadata": {},
   "outputs": [
    {
     "data": {
      "image/png": "[encoded data removed]",
      "text/latex": [
       "$\\displaystyle - q^{40} - 5 q^{38} - 20 q^{36} - 55 q^{34} - 130 q^{32} - 251 q^{30} - 430 q^{28} - 635 q^{26} - 845 q^{24} - 990 q^{22} - 1052 q^{20} - 990 q^{18} - 845 q^{16} - 635 q^{14} - 430 q^{12} - 251 q^{10} - 130 q^{8} - 55 q^{6} - 20 q^{4} - 5 q^{2} - 1$"
      ],
      "text/plain": [
       "   40      38       36       34        32        30        28        26       \n",
       "- q   - 5⋅q   - 20⋅q   - 55⋅q   - 130⋅q   - 251⋅q   - 430⋅q   - 635⋅q   - 845⋅\n",
       "\n",
       " 24        22         20        18        16        14        12        10    \n",
       "q   - 990⋅q   - 1052⋅q   - 990⋅q   - 845⋅q   - 635⋅q   - 430⋅q   - 251⋅q   - 1\n",
       "\n",
       "    8       6       4      2    \n",
       "30⋅q  - 55⋅q  - 20⋅q  - 5⋅q  - 1"
      ]
     },
     "execution_count": 9,
     "metadata": {},
     "output_type": "execute_result"
    }
   ],
   "source": [
    "#diagonalNinebyNine = communicatingBlock.diagonalize()\n",
    "#eigenVecMatrix.det()\n",
    "numeratorOne = -𝑞**40-5*𝑞**38-20*𝑞**36-55*𝑞**34-130*𝑞**32-251*𝑞**30-430*𝑞**28-635*𝑞**26-845*𝑞**24-990*𝑞**22-1052*𝑞**20-990*𝑞**18-845*𝑞**16-635*𝑞**14\n",
    "numeratorTwo = -430*𝑞**12-251*𝑞**10-130*𝑞**8-55*𝑞**6-20*𝑞**4-5*𝑞**2-1\n",
    "numerator = numeratorOne+numeratorTwo\n",
    "numerator"
   ]
  },
  {
   "cell_type": "code",
   "execution_count": 10,
   "id": "697f56cd",
   "metadata": {},
   "outputs": [
    {
     "name": "stdout",
     "output_type": "stream",
     "text": [
      "- \\left(q^{4} + 1\\right)^{5} \\left(q^{2} - q + 1\\right)^{5} \\left(q^{2} + q + 1\\right)^{5}\n"
     ]
    }
   ],
   "source": [
    "print(latex(numerator.factor()))"
   ]
  },
  {
   "cell_type": "code",
   "execution_count": 11,
   "id": "ac6128af",
   "metadata": {},
   "outputs": [
    {
     "data": {
      "image/png": "[encoded data removed]",
      "text/latex": [
       "$\\displaystyle q^{34} + 5 q^{32} + 7 q^{30} - 4 q^{28} - 17 q^{26} - 7 q^{24} + 9 q^{22} - 9 q^{18} + 7 q^{16} + 17 q^{14} + 4 q^{12} - 7 q^{10} - 5 q^{8} - q^{6}$"
      ],
      "text/plain": [
       " 34      32      30      28       26      24      22      18      16       14 \n",
       "q   + 5⋅q   + 7⋅q   - 4⋅q   - 17⋅q   - 7⋅q   + 9⋅q   - 9⋅q   + 7⋅q   + 17⋅q   \n",
       "\n",
       "     12      10      8    6\n",
       "+ 4⋅q   - 7⋅q   - 5⋅q  - q "
      ]
     },
     "execution_count": 11,
     "metadata": {},
     "output_type": "execute_result"
    }
   ],
   "source": [
    "#(diagonalNinebyNine[0]*diagonalNinebyNine[1]*diagonalNinebyNine[0].inv()).applyfunc(simplify)\n",
    "denominator = 𝑞**34+5*𝑞**32+7*𝑞**30-4*𝑞**28-17*𝑞**26-7*𝑞**24+9*𝑞**22-9*𝑞**18+7*𝑞**16+17*𝑞**14+4*𝑞**12-7*𝑞**10-5*𝑞**8-𝑞**6\n",
    "denominator"
   ]
  },
  {
   "cell_type": "code",
   "execution_count": 12,
   "id": "b946bdf3",
   "metadata": {},
   "outputs": [
    {
     "name": "stdout",
     "output_type": "stream",
     "text": [
      "q^{6} \\left(q - 1\\right)^{3} \\left(q + 1\\right)^{3} \\left(q^{2} + 1\\right)^{9} \\left(q^{4} - q^{2} + 1\\right)\n"
     ]
    }
   ],
   "source": [
    "print(latex(denominator.factor()))"
   ]
  },
  {
   "cell_type": "code",
   "execution_count": 13,
   "id": "81fceee9",
   "metadata": {},
   "outputs": [],
   "source": [
    "generatorList = ['30','21','03','12','10','01','20','02','31','13','32','23','00','11','22','33']\n",
    "\n",
    "megaGeneratorListNum = string_list = [\"String {}\".format(i) for i in range(256)]\n",
    "\n",
    "for i in range(16):\n",
    "    for j in range(16):\n",
    "        megaGeneratorListNum[16*i+j] = generatorList[i][0] + generatorList[j] + generatorList[i][1]\n",
    "#print(latex(megaGeneratorListNum))"
   ]
  },
  {
   "cell_type": "code",
   "execution_count": 14,
   "id": "b555f69d",
   "metadata": {},
   "outputs": [],
   "source": [
    "fusionList = ['0','1','2','11','3','22','31','32','33']\n",
    "megaFusionList = string_list = [\"String {}\".format(i) for i in range(81)]\n",
    "\n",
    "for i in range(9):\n",
    "    for j in range(9):\n",
    "        megaFusionList[9*i+j] = fusionList[i] + \"_\" + fusionList[j]\n",
    "#print(latex(megaFusionList))"
   ]
  },
  {
   "cell_type": "code",
   "execution_count": 15,
   "id": "19c9b0e0",
   "metadata": {},
   "outputs": [],
   "source": [
    "diagonalOrdering = ['3_3','0_33','33_0','1_32','32_1','2_31','31_2','11_22','22_11',\n",
    "                    '1_3','3_1','0_31','31_0','2_11','11_2',\n",
    "                   '2_3','3_2','0_32','32_0','1_22','22_1',\n",
    "                   '3_31','31_3','1_33','33_1','11_32','32_11',\n",
    "                   '3_32','32_3','2_33','33_2','22_31','31_22',\n",
    "                   '3_0','1_2','2_1','0_3',\n",
    "                   '31_1','11_3','3_11','1_31',\n",
    "                   '32_2','22_3','3_22','2_32',\n",
    "                   '33_3','31_32','32_31','3_33',\n",
    "                   '1_1','0_11','11_0',\n",
    "                   '2_2','0_22','22_0',\n",
    "                   '31_31','11_33','33_11',\n",
    "                   '32_32','22_33','33_22',\n",
    "                   '0_1','1_0',\n",
    "                   '0_2','2_0',\n",
    "                   '1_11','11_1',\n",
    "                   '2_22','22_2',\n",
    "                   '11_31','31_11',\n",
    "                   '22_32','32_22',\n",
    "                   '31_33','33_31',\n",
    "                   '32_33','33_32',\n",
    "                   '0_0',\n",
    "                   '11_11',\n",
    "                   '22_22',\n",
    "                   '33_33']\n",
    "#diagonalOrdering"
   ]
  },
  {
   "cell_type": "code",
   "execution_count": 16,
   "id": "5754703e",
   "metadata": {},
   "outputs": [],
   "source": [
    "#print(latex(diagonalOrdering))"
   ]
  }
 ],
 "metadata": {
  "kernelspec": {
   "display_name": "Python 3",
   "language": "python",
   "name": "python3"
  },
  "language_info": {
   "codemirror_mode": {
    "name": "ipython",
    "version": 3
   },
   "file_extension": ".py",
   "mimetype": "text/x-python",
   "name": "python",
   "nbconvert_exporter": "python",
   "pygments_lexer": "ipython3",
   "version": "3.8.8"
  }
 },
 "nbformat": 4,
 "nbformat_minor": 5
}
