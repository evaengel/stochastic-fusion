{
 "cells": [
  {
   "cell_type": "markdown",
   "metadata": {
    "collapsed": false,
    "jupyter": {
     "outputs_hidden": false
    }
   },
   "source": [
    "Construct Generator Matrix $L_p^2$"
   ]
  },
  {
   "cell_type": "code",
   "execution_count": 1,
   "metadata": {},
   "outputs": [
    {
     "name": "stdout",
     "output_type": "stream",
     "text": [
      "IPython console for SymPy 1.12 (Python 3.11.7-64-bit) (ground types: gmpy)\n",
      "\n",
      "These commands were executed:\n",
      ">>> from sympy import *\n",
      ">>> x, y, z, t = symbols('x y z t')\n",
      ">>> k, m, n = symbols('k m n', integer=True)\n",
      ">>> f, g, h = symbols('f g h', cls=Function)\n",
      ">>> init_printing()\n",
      "\n",
      "Documentation can be found at https://docs.sympy.org/1.12/\n",
      "\n"
     ]
    }
   ],
   "source": [
    "from sympy import *\n",
    "from sympy.physics.quantum import TensorProduct\n",
    "init_session()"
   ]
  },
  {
   "cell_type": "code",
   "execution_count": 2,
   "metadata": {
    "collapsed": false,
    "jupyter": {
     "outputs_hidden": false
    }
   },
   "outputs": [],
   "source": [
    "#constructing generator matrix\n",
    "q = symbols('q')\n",
    "#n = symbols('n')\n",
    "n = 2\n",
    "L1 = Matrix([[-1*(q**(2*n-2)-q**(2*n-4)+(2/q**2)+((-q**(1-n)+q**(n-1))**2/q**2)+q**(2*n-2)-q**(2*n-4)+(2/q**2)),\n",
    "              q**(2*n-2)-q**(2*n-4)+(2/q**2),(-q**(1-n)+q**(n-1))**2/q**2,q**(2*n-2)-q**(2*n-4)+(2/q**2)],\n",
    "             \n",
    "             [q**(2*n)-q**(2*n-2)+2,\n",
    "              -1*(q**(2*n)-q**(2*n-2)+2+q**(-2*n)-q**(2-2*n)+2+(-q**(1-n)+q**(n-1))**2),\n",
    "              q**(-2*n)-q**(2-2*n)+2,(-q**(1-n)+q**(n-1))**2],\n",
    "             \n",
    "            [(q**2)*(-q**(1-n)+q**(n-1))**2,2*q**2+q**(2-2*n)-q**(4-2*n),\n",
    "             -1*(((q**2)*(-q**(1-n)+q**(n-1))**2)+2*q**2+q**(2-2*n)-q**(4-2*n)+2*q**2+q**(2-2*n)-q**(4-2*n)),\n",
    "             2*q**2+q**(2-2*n)-q**(4-2*n)],\n",
    "             \n",
    "            [q**(2*n)-q**(2*n-2)+2,(-q**(1-n)+q**(n-1))**2,q**(-2*n)-q**(2-2*n)+2,\n",
    "             -1*(q**(2*n)-q**(2*n-2)+2+(-q**(1-n)+q**(n-1))**2+q**(-2*n)-q**(2-2*n)+2)]\n",
    "            \n",
    "            ])\n",
    "\n",
    "L2 = Matrix([[-1*((q**(1-2*n))+(q**(2*n-1)))/q,((q**(1-2*n))+(q**(2*n-1)))/q],\n",
    "             [q*(q**(1-2*n)+q**(2*n-1)),-q*(q**(1-2*n)+q**(2*n-1))]])\n",
    "\n",
    "L2Piece = Matrix.diag(L2,L2)\n",
    "fullL2 = Matrix.diag(L2Piece,L2Piece)\n",
    "\n",
    "zeroMatrixPiece = Matrix.diag(Matrix([[0]]),Matrix([[0]]))\n",
    "fullZeroMatrix = Matrix.diag(zeroMatrixPiece,zeroMatrixPiece)\n",
    "\n",
    "firstPiece = Matrix.diag(L1,fullL2)\n",
    "\n",
    "generatorMatrix = Matrix.diag(firstPiece,fullZeroMatrix)\n",
    "\n",
    "#generatorMatrix\n"
   ]
  },
  {
   "cell_type": "markdown",
   "metadata": {
    "collapsed": false,
    "jupyter": {
     "outputs_hidden": false
    }
   },
   "source": [
    "$\\Lambda$ Matrix (Reverse Fusion Matrix) and $\\Phi$ Matrix (Fusion Map)"
   ]
  },
  {
   "cell_type": "code",
   "execution_count": 3,
   "metadata": {
    "collapsed": false,
    "jupyter": {
     "outputs_hidden": false
    }
   },
   "outputs": [],
   "source": [
    "#Lambda and Phi\n",
    "lambdaMatrix = Matrix([\n",
    "    [0,0,0,0,0,0,0,0,0,0,0,0,1,0,0,0],\n",
    "    [0,0,0,0,q**2/(q**2+1),1/(q**2+1),0,0,0,0,0,0,0,0,0,0],\n",
    "    [0,0,0,0,0,0,q**2/(q**2+1),1/(q**2+1),0,0,0,0,0,0,0,0],\n",
    "    [0,0,0,0,0,0,0,0,0,0,0,0,0,1,0,0],\n",
    "    [q**4/(1+q**2)**2,q**2/(1+q**2)**2,1/(1+q**2)**2,q**2/(1+q**2)**2,0,0,0,0,0,0,0,0,0,0,0,0],\n",
    "    [0,0,0,0,0,0,0,0,0,0,0,0,0,0,1,0],\n",
    "    [0,0,0,0,0,0,0,0,q**2/(q**2+1),1/(q**2+1),0,0,0,0,0,0],\n",
    "    [0,0,0,0,0,0,0,0,0,0,q**2/(q**2+1),1/(q**2+1),0,0,0,0],\n",
    "    [0,0,0,0,0,0,0,0,0,0,0,0,0,0,0,1]\n",
    "])\n",
    "\n",
    "phiMatrix = Matrix([\n",
    "    [0,0,0,0,1,0,0,0,0],\n",
    "    [0,0,0,0,1,0,0,0,0],\n",
    "    [0,0,0,0,1,0,0,0,0],\n",
    "    [0,0,0,0,1,0,0,0,0],\n",
    "    [0,1,0,0,0,0,0,0,0],\n",
    "    [0,1,0,0,0,0,0,0,0],\n",
    "    [0,0,1,0,0,0,0,0,0],\n",
    "    [0,0,1,0,0,0,0,0,0],\n",
    "    [0,0,0,0,0,0,1,0,0],\n",
    "    [0,0,0,0,0,0,1,0,0],\n",
    "    [0,0,0,0,0,0,0,1,0],\n",
    "    [0,0,0,0,0,0,0,1,0],\n",
    "    [1,0,0,0,0,0,0,0,0],\n",
    "    [0,0,0,1,0,0,0,0,0],\n",
    "    [0,0,0,0,0,1,0,0,0],\n",
    "    [0,0,0,0,0,0,0,0,1],\n",
    "])\n",
    "\n",
    "tensorLambda = TensorProduct(lambdaMatrix,lambdaMatrix)\n",
    "tensorPhi = TensorProduct(phiMatrix,phiMatrix)"
   ]
  },
  {
   "cell_type": "markdown",
   "metadata": {
    "collapsed": false,
    "jupyter": {
     "outputs_hidden": false
    }
   },
   "source": [
    "Type D ASEP Middle Swap Generator"
   ]
  },
  {
   "cell_type": "code",
   "execution_count": 4,
   "metadata": {
    "collapsed": false,
    "jupyter": {
     "outputs_hidden": false
    }
   },
   "outputs": [],
   "source": [
    "#Middle Generator Constructor\n",
    "generatorList = ['30','21','03','12','10','01','20','02','31','13','32','23','00','11','22','33']\n",
    "generatorListWord = ['TZ','WO','ZT','OW','OZ','ZO','WZ','ZW','TO','OT','TW','WT','ZZ','OO','WW','TT']\n",
    "\n",
    "megaGeneratorListNum = string_list = [\"String {}\".format(i) for i in range(256)]\n",
    "megaGeneratorList = string_list = [\"String {}\".format(i) for i in range(256)]\n",
    "\n",
    "for i in range(16):\n",
    "    for j in range(16):\n",
    "        megaGeneratorListNum[16*i+j] = generatorList[i] + generatorList[j]\n",
    "        megaGeneratorList[16*i+j] = generatorListWord[i] + generatorListWord[j]\n",
    "\n",
    "megaGeneratorMatrix = zeros(256, 256)\n",
    "\n",
    "#print(megaGeneratorListNum)\n",
    "\n",
    "for i in range(256):\n",
    "    for j in range(256):\n",
    "        if megaGeneratorList[i][0] == megaGeneratorList[j][0] and megaGeneratorList[i][3] == megaGeneratorList[j][3]:\n",
    "            megaGeneratorMatrix[i,j] = generatorMatrix[generatorListWord.index(megaGeneratorList[i][1:3]),generatorListWord.index(megaGeneratorList[j][1:3])]\n",
    "        else:\n",
    "            megaGeneratorMatrix[i,j] = 0\n",
    "\n",
    "fusionMatrix = tensorLambda*megaGeneratorMatrix*tensorPhi\n",
    "\n",
    "simplifyFusionMatrix = fusionMatrix.applyfunc(simplify)\n",
    "\n",
    "#simplifyFusionMatrix\n",
    "#simplifyFusionMatrix = fusionMatrix.simplify_full()"
   ]
  },
  {
   "cell_type": "code",
   "execution_count": 5,
   "metadata": {
    "collapsed": false,
    "jupyter": {
     "outputs_hidden": false
    }
   },
   "outputs": [],
   "source": [
    "#tracking communicating classes\n",
    "#One 9x9\n",
    "communicationListNine = ['3_3','0_33','33_0','1_32','32_1','2_31','31_2','11_22','22_11']\n",
    "#Four 6x6\n",
    "communicationListSixOne = ['1_3','3_1','0_31','31_0','2_11','11_2']\n",
    "communicationListSixTwo = ['2_3','3_2','0_32','32_0','1_22','22_1']\n",
    "communicationListSixThree =  ['3_31','31_3','1_33','33_1','11_32','32_11']\n",
    "communicationListSixFour =  ['3_32','32_3','2_33','33_2','22_31','31_22']\n",
    "#Four 4x4\n",
    "communicationListFourOne = ['3_0','1_2','2_1','0_3']\n",
    "communicatonListFourTwo = ['3_11','1_31','11_3','31_1']\n",
    "communicationListFourThree = ['3_22','2_32','22_3','32_2']\n",
    "\n",
    "communicationListFourFour = ['33_3','31_32','32_31','3_33']\n",
    "#Four 3x3\n",
    "communicationListThreeOne = ['1_1','0_11','11_0']\n",
    "communicationListThreeTwo = ['2_2','0_22','22_0']\n",
    "communicationListThreeThree = ['31_31','11_33','33_11']\n",
    "communicationListThreeFour = ['32_32','22_33','33_22']\n",
    "#Eight 2x2\n",
    "communicationListTwoOne = ['0_1','1_0']\n",
    "communicationListTwoTwo = ['0_2','2_0']\n",
    "communicationListTwoThree = ['1_11','11_1']\n",
    "communicationListTwoFour = ['2_22','22_2']\n",
    "communicationListTwoFive = ['11_31','31_11']\n",
    "communicationListTwoSix = ['22_32','32_22']\n",
    "communicationListTwoSeven = ['31_33','33_31']\n",
    "communicationListTwoEight = ['32_33','33_32']\n",
    "#Four 1x1\n",
    "communicationListZeroOne = ['0_0']\n",
    "communicationListZeroTwo = ['11_11']\n",
    "communicationListZeroThree = ['22_22']\n",
    "communicationListZeroThree = ['33_33']"
   ]
  },
  {
   "cell_type": "code",
   "execution_count": 6,
   "metadata": {
    "collapsed": false,
    "jupyter": {
     "outputs_hidden": false
    }
   },
   "outputs": [
    {
     "data": {
      "text/latex": [
       "$\\displaystyle \\left[\\begin{matrix}\\frac{- q^{12} - 4 q^{10} + 8 q^{8} - 14 q^{6} + 8 q^{4} - 4 q^{2} - 1}{q^{8} + 2 q^{6} + q^{4}} & \\frac{\\left(q^{2} - 1\\right)^{2}}{q^{4} \\left(q^{2} + 1\\right)^{4}} & \\frac{q^{8} \\left(q^{2} - 1\\right)^{2}}{\\left(q^{2} + 1\\right)^{4}} & \\frac{4 q^{4} - 4 q^{2} + 4}{q^{8} + 3 q^{6} + 3 q^{4} + q^{2}} & \\frac{4 q^{4} \\left(q^{4} - q^{2} + 1\\right)}{q^{6} + 3 q^{4} + 3 q^{2} + 1} & \\frac{4 q^{4} - 4 q^{2} + 4}{q^{8} + 3 q^{6} + 3 q^{4} + q^{2}} & \\frac{4 q^{4} \\left(q^{4} - q^{2} + 1\\right)}{q^{6} + 3 q^{4} + 3 q^{2} + 1} & \\frac{q^{2} \\left(q^{2} - 1\\right)^{2}}{\\left(q^{2} + 1\\right)^{4}} & \\frac{q^{2} \\left(q^{2} - 1\\right)^{2}}{\\left(q^{2} + 1\\right)^{4}}\\\\\\left(q^{2} - 1\\right)^{2} & - q^{4} - 2 q^{2} + 1 - \\frac{2}{q^{2}} & 0 & 2 q^{2} - 1 + \\frac{1}{q^{2}} & 0 & 2 q^{2} - 1 + \\frac{1}{q^{2}} & 0 & 0 & 0\\\\\\frac{\\left(q^{2} - 1\\right)^{2}}{q^{4}} & 0 & - 2 q^{2} + 1 - \\frac{2}{q^{2}} - \\frac{1}{q^{4}} & 0 & q^{2} - 1 + \\frac{2}{q^{2}} & 0 & q^{2} - 1 + \\frac{2}{q^{2}} & 0 & 0\\\\\\frac{4 \\left(q^{4} - q^{2} + 1\\right)}{q^{2} + 1} & \\frac{2 q^{4} - q^{2} + 1}{q^{4} \\left(q^{2} + 1\\right)^{2}} & 0 & \\frac{- q^{10} - 3 q^{8} + 3 q^{6} - 5 q^{4} + q^{2} - 1}{q^{6} + q^{4}} & 0 & \\frac{\\left(q^{2} - 1\\right)^{2}}{q^{2} \\left(q^{2} + 1\\right)^{2}} & \\frac{q^{4} \\left(q^{2} - 1\\right)^{2}}{\\left(q^{2} + 1\\right)^{2}} & \\frac{q^{2} \\left(q^{2} \\cdot \\left(2 q^{2} - 1\\right) + 1\\right)}{\\left(q^{2} + 1\\right)^{2}} & 0\\\\\\frac{4 q^{4} - 4 q^{2} + 4}{q^{4} + q^{2}} & 0 & \\frac{q^{4} \\left(q^{4} - q^{2} + 2\\right)}{\\left(q^{2} + 1\\right)^{2}} & 0 & \\frac{- q^{10} + q^{8} - 5 q^{6} + 3 q^{4} - 3 q^{2} - 1}{q^{6} + q^{4}} & \\frac{\\left(q^{2} - 1\\right)^{2}}{q^{4} \\left(q^{2} + 1\\right)^{2}} & \\frac{q^{2} \\left(q^{2} - 1\\right)^{2}}{\\left(q^{2} + 1\\right)^{2}} & 0 & \\frac{q^{2} \\left(q^{2} - 1\\right) + 2}{q^{2} \\left(q^{2} + 1\\right)^{2}}\\\\\\frac{4 \\left(q^{4} - q^{2} + 1\\right)}{q^{2} + 1} & \\frac{2 q^{4} - q^{2} + 1}{q^{4} \\left(q^{2} + 1\\right)^{2}} & 0 & \\frac{\\left(q^{2} - 1\\right)^{2}}{q^{2} \\left(q^{2} + 1\\right)^{2}} & \\frac{q^{4} \\left(q^{2} - 1\\right)^{2}}{\\left(q^{2} + 1\\right)^{2}} & \\frac{- q^{10} - 3 q^{8} + 3 q^{6} - 5 q^{4} + q^{2} - 1}{q^{6} + q^{4}} & 0 & 0 & \\frac{q^{2} \\left(q^{2} \\cdot \\left(2 q^{2} - 1\\right) + 1\\right)}{\\left(q^{2} + 1\\right)^{2}}\\\\\\frac{4 q^{4} - 4 q^{2} + 4}{q^{4} + q^{2}} & 0 & \\frac{q^{4} \\left(q^{4} - q^{2} + 2\\right)}{\\left(q^{2} + 1\\right)^{2}} & \\frac{\\left(q^{2} - 1\\right)^{2}}{q^{4} \\left(q^{2} + 1\\right)^{2}} & \\frac{q^{2} \\left(q^{2} - 1\\right)^{2}}{\\left(q^{2} + 1\\right)^{2}} & 0 & \\frac{- q^{10} + q^{8} - 5 q^{6} + 3 q^{4} - 3 q^{2} - 1}{q^{6} + q^{4}} & \\frac{q^{2} \\left(q^{2} - 1\\right) + 2}{q^{2} \\left(q^{2} + 1\\right)^{2}} & 0\\\\\\frac{\\left(q^{2} - 1\\right)^{2}}{q^{2}} & 0 & 0 & 2 - \\frac{1}{q^{2}} + \\frac{1}{q^{4}} & 0 & 0 & q^{4} - q^{2} + 2 & - q^{4} - 2 - \\frac{1}{q^{4}} & 0\\\\\\frac{\\left(q^{2} - 1\\right)^{2}}{q^{2}} & 0 & 0 & 0 & q^{4} - q^{2} + 2 & 2 - \\frac{1}{q^{2}} + \\frac{1}{q^{4}} & 0 & 0 & - q^{4} - 2 - \\frac{1}{q^{4}}\\end{matrix}\\right]$"
      ],
      "text/plain": [
       "⎡                                                             2               \n",
       "⎢   12      10      8       6      4      2           ⎛ 2    ⎞              8 \n",
       "⎢- q   - 4⋅q   + 8⋅q  - 14⋅q  + 8⋅q  - 4⋅q  - 1       ⎝q  - 1⎠             q ⋅\n",
       "⎢──────────────────────────────────────────────      ────────────          ───\n",
       "⎢                 8      6    4                                 4             \n",
       "⎢                q  + 2⋅q  + q                        4 ⎛ 2    ⎞            ⎛ \n",
       "⎢                                                    q ⋅⎝q  + 1⎠            ⎝q\n",
       "⎢                                                                             \n",
       "⎢                          2                                                  \n",
       "⎢                  ⎛ 2    ⎞                         4      2       2          \n",
       "⎢                  ⎝q  - 1⎠                      - q  - 2⋅q  + 1 - ──         \n",
       "⎢                                                                   2         \n",
       "⎢                                                                  q          \n",
       "⎢                                                                             \n",
       "⎢                          2                                                  \n",
       "⎢                  ⎛ 2    ⎞                                                   \n",
       "⎢                  ⎝q  - 1⎠                                                 2 \n",
       "⎢                  ─────────                              0            - 2⋅q  \n",
       "⎢                       4                                                     \n",
       "⎢                      q                                                      \n",
       "⎢                                                                             \n",
       "⎢                                                                             \n",
       "⎢                 ⎛ 4    2    ⎞                        4    2                 \n",
       "⎢               4⋅⎝q  - q  + 1⎠                     2⋅q  - q  + 1             \n",
       "⎢               ───────────────                     ─────────────             \n",
       "⎢                     2                                         2             \n",
       "⎢                    q  + 1                           4 ⎛ 2    ⎞              \n",
       "⎢                                                    q ⋅⎝q  + 1⎠              \n",
       "⎢                                                                             \n",
       "⎢                                                                             \n",
       "⎢                  4      2                                               4 ⎛ \n",
       "⎢               4⋅q  - 4⋅q  + 4                                          q ⋅⎝q\n",
       "⎢               ───────────────                           0              ─────\n",
       "⎢                    4    2                                                   \n",
       "⎢                   q  + q                                                  ⎛ \n",
       "⎢                                                                           ⎝q\n",
       "⎢                                                                             \n",
       "⎢                                                                             \n",
       "⎢                 ⎛ 4    2    ⎞                        4    2                 \n",
       "⎢               4⋅⎝q  - q  + 1⎠                     2⋅q  - q  + 1             \n",
       "⎢               ───────────────                     ─────────────             \n",
       "⎢                     2                                         2             \n",
       "⎢                    q  + 1                           4 ⎛ 2    ⎞              \n",
       "⎢                                                    q ⋅⎝q  + 1⎠              \n",
       "⎢                                                                             \n",
       "⎢                                                                             \n",
       "⎢                  4      2                                               4 ⎛ \n",
       "⎢               4⋅q  - 4⋅q  + 4                                          q ⋅⎝q\n",
       "⎢               ───────────────                           0              ─────\n",
       "⎢                    4    2                                                   \n",
       "⎢                   q  + q                                                  ⎛ \n",
       "⎢                                                                           ⎝q\n",
       "⎢                                                                             \n",
       "⎢                          2                                                  \n",
       "⎢                  ⎛ 2    ⎞                                                   \n",
       "⎢                  ⎝q  - 1⎠                                                   \n",
       "⎢                  ─────────                              0                   \n",
       "⎢                       2                                                     \n",
       "⎢                      q                                                      \n",
       "⎢                                                                             \n",
       "⎢                          2                                                  \n",
       "⎢                  ⎛ 2    ⎞                                                   \n",
       "⎢                  ⎝q  - 1⎠                                                   \n",
       "⎢                  ─────────                              0                   \n",
       "⎢                       2                                                     \n",
       "⎣                      q                                                      \n",
       "\n",
       "        2                                                                     \n",
       "⎛ 2    ⎞                    4      2                           4 ⎛ 4    2    ⎞\n",
       "⎝q  - 1⎠                 4⋅q  - 4⋅q  + 4                    4⋅q ⋅⎝q  - q  + 1⎠\n",
       "─────────             ─────────────────────                ───────────────────\n",
       "      4                8      6      4    2                 6      4      2   \n",
       "2    ⎞                q  + 3⋅q  + 3⋅q  + q                 q  + 3⋅q  + 3⋅q  + \n",
       "  + 1⎠                                                                        \n",
       "                                                                              \n",
       "                                                                              \n",
       "                             2       1                                        \n",
       "  0                       2⋅q  - 1 + ──                              0        \n",
       "                                      2                                       \n",
       "                                     q                                        \n",
       "                                                                              \n",
       "                                                                              \n",
       "                                                                              \n",
       "      2    1                                                     2       2    \n",
       "+ 1 - ── - ──                   0                               q  - 1 + ──   \n",
       "       2    4                                                             2   \n",
       "      q    q                                                             q    \n",
       "                                                                              \n",
       "                                                                              \n",
       "                  10      8      6      4    2                                \n",
       "               - q   - 3⋅q  + 3⋅q  - 5⋅q  + q  - 1                            \n",
       "  0            ───────────────────────────────────                   0        \n",
       "                              6    4                                          \n",
       "                             q  + q                                           \n",
       "                                                                              \n",
       "                                                                              \n",
       "                                                                              \n",
       "4    2    ⎞                                            10    8      6      4  \n",
       "  - q  + 2⎠                                         - q   + q  - 5⋅q  + 3⋅q  -\n",
       "───────────                     0                   ──────────────────────────\n",
       "      2                                                            6    4     \n",
       "2    ⎞                                                            q  + q      \n",
       "  + 1⎠                                                                        \n",
       "                                                                              \n",
       "                                   2                                      2   \n",
       "                           ⎛ 2    ⎞                             4 ⎛ 2    ⎞    \n",
       "                           ⎝q  - 1⎠                            q ⋅⎝q  - 1⎠    \n",
       "  0                       ────────────                         ────────────   \n",
       "                                     2                                  2     \n",
       "                           2 ⎛ 2    ⎞                           ⎛ 2    ⎞      \n",
       "                          q ⋅⎝q  + 1⎠                           ⎝q  + 1⎠      \n",
       "                                                                              \n",
       "                                   2                                      2   \n",
       "4    2    ⎞                ⎛ 2    ⎞                             2 ⎛ 2    ⎞    \n",
       "  - q  + 2⎠                ⎝q  - 1⎠                            q ⋅⎝q  - 1⎠    \n",
       "───────────               ────────────                         ────────────   \n",
       "      2                              2                                  2     \n",
       "2    ⎞                     4 ⎛ 2    ⎞                           ⎛ 2    ⎞      \n",
       "  + 1⎠                    q ⋅⎝q  + 1⎠                           ⎝q  + 1⎠      \n",
       "                                                                              \n",
       "                                                                              \n",
       "                                                                              \n",
       "                               1    1                                         \n",
       "  0                        2 - ── + ──                               0        \n",
       "                                2    4                                        \n",
       "                               q    q                                         \n",
       "                                                                              \n",
       "                                                                              \n",
       "                                                                              \n",
       "                                                                 4    2       \n",
       "  0                             0                               q  - q  + 2   \n",
       "                                                                              \n",
       "                                                                              \n",
       "\n",
       "                                                                              \n",
       "                        4      2                           4 ⎛ 4    2    ⎞    \n",
       "                     4⋅q  - 4⋅q  + 4                    4⋅q ⋅⎝q  - q  + 1⎠    \n",
       "─                 ─────────────────────                ────────────────────   \n",
       "                   8      6      4    2                 6      4      2       \n",
       "1                 q  + 3⋅q  + 3⋅q  + q                 q  + 3⋅q  + 3⋅q  + 1   \n",
       "                                                                              \n",
       "                                                                              \n",
       "                                                                              \n",
       "                         2       1                                            \n",
       "                      2⋅q  - 1 + ──                              0            \n",
       "                                  2                                           \n",
       "                                 q                                            \n",
       "                                                                              \n",
       "                                                                              \n",
       "                                                                              \n",
       "                                                             2       2        \n",
       "                            0                               q  - 1 + ──       \n",
       "                                                                      2       \n",
       "                                                                     q        \n",
       "                                                                              \n",
       "                               2                                      2       \n",
       "                       ⎛ 2    ⎞                             4 ⎛ 2    ⎞        \n",
       "                       ⎝q  - 1⎠                            q ⋅⎝q  - 1⎠        \n",
       "                      ────────────                         ────────────       \n",
       "                                 2                                  2         \n",
       "                       2 ⎛ 2    ⎞                           ⎛ 2    ⎞          \n",
       "                      q ⋅⎝q  + 1⎠                           ⎝q  + 1⎠          \n",
       "                                                                              \n",
       "                               2                                      2       \n",
       "    2                  ⎛ 2    ⎞                             2 ⎛ 2    ⎞        \n",
       " 3⋅q  - 1              ⎝q  - 1⎠                            q ⋅⎝q  - 1⎠        \n",
       "─────────             ────────────                         ────────────       \n",
       "                                 2                                  2         \n",
       "                       4 ⎛ 2    ⎞                           ⎛ 2    ⎞          \n",
       "                      q ⋅⎝q  + 1⎠                           ⎝q  + 1⎠          \n",
       "                                                                              \n",
       "                                                                              \n",
       "              10      8      6      4    2                                    \n",
       "           - q   - 3⋅q  + 3⋅q  - 5⋅q  + q  - 1                                \n",
       "           ───────────────────────────────────                   0            \n",
       "                          6    4                                              \n",
       "                         q  + q                                               \n",
       "                                                                              \n",
       "                                                                              \n",
       "                                                                              \n",
       "                                                   10    8      6      4      \n",
       "                                                - q   + q  - 5⋅q  + 3⋅q  - 3⋅q\n",
       "                            0                   ──────────────────────────────\n",
       "                                                               6    4         \n",
       "                                                              q  + q          \n",
       "                                                                              \n",
       "                                                                              \n",
       "                                                                              \n",
       "                                                                              \n",
       "                                                             4    2           \n",
       "                            0                               q  - q  + 2       \n",
       "                                                                              \n",
       "                                                                              \n",
       "                                                                              \n",
       "                                                                              \n",
       "                                                                              \n",
       "                           1    1                                             \n",
       "                       2 - ── + ──                               0            \n",
       "                            2    4                                            \n",
       "                           q    q                                             \n",
       "\n",
       "                       2                       2     ⎤\n",
       "             2 ⎛ 2    ⎞              2 ⎛ 2    ⎞      ⎥\n",
       "            q ⋅⎝q  - 1⎠             q ⋅⎝q  - 1⎠      ⎥\n",
       "            ────────────            ────────────     ⎥\n",
       "                     4                       4       ⎥\n",
       "             ⎛ 2    ⎞                ⎛ 2    ⎞        ⎥\n",
       "             ⎝q  + 1⎠                ⎝q  + 1⎠        ⎥\n",
       "                                                     ⎥\n",
       "                                                     ⎥\n",
       "                                                     ⎥\n",
       "                 0                       0           ⎥\n",
       "                                                     ⎥\n",
       "                                                     ⎥\n",
       "                                                     ⎥\n",
       "                                                     ⎥\n",
       "                                                     ⎥\n",
       "                                                     ⎥\n",
       "                 0                       0           ⎥\n",
       "                                                     ⎥\n",
       "                                                     ⎥\n",
       "                                                     ⎥\n",
       "                                                     ⎥\n",
       "        2 ⎛ 2 ⎛   2    ⎞    ⎞                        ⎥\n",
       "       q ⋅⎝q ⋅⎝2⋅q  - 1⎠ + 1⎠                        ⎥\n",
       "       ──────────────────────            0           ⎥\n",
       "                     2                               ⎥\n",
       "             ⎛ 2    ⎞                                ⎥\n",
       "             ⎝q  + 1⎠                                ⎥\n",
       "                                                     ⎥\n",
       "                                                     ⎥\n",
       "                                   2 ⎛ 2    ⎞        ⎥\n",
       "                                  q ⋅⎝q  - 1⎠ + 2    ⎥\n",
       "                 0                ───────────────    ⎥\n",
       "                                               2     ⎥\n",
       "                                     2 ⎛ 2    ⎞      ⎥\n",
       "                                    q ⋅⎝q  + 1⎠      ⎥\n",
       "                                                     ⎥\n",
       "                                                     ⎥\n",
       "                                2 ⎛ 2 ⎛   2    ⎞    ⎞⎥\n",
       "                               q ⋅⎝q ⋅⎝2⋅q  - 1⎠ + 1⎠⎥\n",
       "                 0             ──────────────────────⎥\n",
       "                                             2       ⎥\n",
       "                                     ⎛ 2    ⎞        ⎥\n",
       "                                     ⎝q  + 1⎠        ⎥\n",
       "                                                     ⎥\n",
       "                                                     ⎥\n",
       "2          2 ⎛ 2    ⎞                                ⎥\n",
       "  - 1     q ⋅⎝q  - 1⎠ + 2                            ⎥\n",
       "─────     ───────────────                0           ⎥\n",
       "                       2                             ⎥\n",
       "             2 ⎛ 2    ⎞                              ⎥\n",
       "            q ⋅⎝q  + 1⎠                              ⎥\n",
       "                                                     ⎥\n",
       "                                                     ⎥\n",
       "                                                     ⎥\n",
       "              4       1                              ⎥\n",
       "           - q  - 2 - ──                 0           ⎥\n",
       "                       4                             ⎥\n",
       "                      q                              ⎥\n",
       "                                                     ⎥\n",
       "                                                     ⎥\n",
       "                                                     ⎥\n",
       "                                      4       1      ⎥\n",
       "                 0                 - q  - 2 - ──     ⎥\n",
       "                                               4     ⎥\n",
       "                                              q      ⎦"
      ]
     },
     "execution_count": 6,
     "metadata": {},
     "output_type": "execute_result"
    }
   ],
   "source": [
    "#communicating classes extraction\n",
    "import numpy as np\n",
    "#making the ordering of the file\n",
    "fusionList = ['0','1','2','11','3','22','31','32','33']\n",
    "megaFusionList = string_list = [\"String {}\".format(i) for i in range(81)]\n",
    "\n",
    "for i in range(9):\n",
    "    for j in range(9):\n",
    "        megaFusionList[9*i+j] = fusionList[i] + '_' + fusionList[j]\n",
    "\n",
    "#extracting communicating block\n",
    "#communicationList = ['0_1','1_0']\n",
    "#communicationList = ['1_1','0_11','11_0']\n",
    "#communicationList = ['3_0','1_2','2_1','0_3']\n",
    "#communicationList = ['1_3','3_1','0_31','31_0','2_11','11_2']\n",
    "communicationList = ['3_3','0_33','33_0','1_32','32_1','2_31','31_2','11_22','22_11']\n",
    "\n",
    "indexList = []\n",
    "for item in communicationList:\n",
    "    indexList.append(megaFusionList.index(item))\n",
    "\n",
    "communicatingBlock = simplifyFusionMatrix[indexList,indexList]\n",
    "#communicatingBlock"
   ]
  },
  {
   "cell_type": "markdown",
   "metadata": {},
   "source": [
    "Diagonalization of components of $L_Q$"
   ]
  },
  {
   "cell_type": "code",
   "execution_count": 12,
   "metadata": {},
   "outputs": [],
   "source": [
    "PMatrix = Matrix(0, 0, [])\n",
    "AMatrix = Matrix(0, 0, [])\n",
    "#extracting communicating block\n",
    "communicationList2 = ['0_1','1_0']\n",
    "communicationList3 = ['1_1','0_11','11_0']\n",
    "communicationList4 = ['3_0','1_2','2_1','0_3']\n",
    "communicationList6 = ['1_3','3_1','0_31','31_0','2_11','11_2']\n",
    "communicationList9 = ['3_3','0_33','33_0','1_32','32_1','2_31','31_2','11_22','22_11']\n",
    "# 2x2 communicating block\n",
    "indexList = []\n",
    "for item in communicationList2:\n",
    "    indexList.append(megaFusionList.index(item))\n",
    "communicatingBlock2 = simplifyFusionMatrix[indexList,indexList]\n",
    "# 3x3 communicating block\n",
    "indexList = []\n",
    "for item in communicationList3:\n",
    "    indexList.append(megaFusionList.index(item))\n",
    "communicatingBlock3 = simplifyFusionMatrix[indexList,indexList]\n",
    "# 4x4 communicating block\n",
    "indexList = []\n",
    "for item in communicationList4:\n",
    "    indexList.append(megaFusionList.index(item))\n",
    "communicatingBlock4 = simplifyFusionMatrix[indexList,indexList]\n",
    "# 6x6 communicating block\n",
    "indexList = []\n",
    "for item in communicationList6:\n",
    "    indexList.append(megaFusionList.index(item))\n",
    "communicatingBlock6 = simplifyFusionMatrix[indexList,indexList]\n",
    "# 9x9 communicating block\n",
    "indexList = []\n",
    "for item in communicationList9:\n",
    "    indexList.append(megaFusionList.index(item))\n",
    "communicatingBlock9 = simplifyFusionMatrix[indexList,indexList]\n",
    "# 9x9 diagonalization\n",
    "P9, A9 = communicatingBlock9.diagonalize()\n",
    "PMatrix = Matrix.diag(PMatrix, P9)\n",
    "AMatrix = Matrix.diag(AMatrix, A9)\n",
    "# 6x6 diagonalization\n",
    "P6, A6 = communicatingBlock6.diagonalize()\n",
    "for i in range(4):\n",
    "    PMatrix = Matrix.diag(PMatrix, P6)\n",
    "    AMatrix = Matrix.diag(AMatrix, A6)\n",
    "# 4x4 diagonalization\n",
    "P4, A4 = communicatingBlock4.diagonalize()\n",
    "for i in range(4):\n",
    "    PMatrix = Matrix.diag(PMatrix, P4)\n",
    "    AMatrix = Matrix.diag(AMatrix, A4)\n",
    "# 3x3 diagonalization\n",
    "P3, A3 = communicatingBlock3.diagonalize()\n",
    "for i in range(4):\n",
    "    PMatrix = Matrix.diag(PMatrix, P3)\n",
    "    AMatrix = Matrix.diag(AMatrix, A3)\n",
    "# 2x2 diagonalization\n",
    "P2, A2 = communicatingBlock2.diagonalize()\n",
    "for i in range(8):\n",
    "    PMatrix = Matrix.diag(PMatrix, P2)\n",
    "    AMatrix = Matrix.diag(AMatrix, A2)"
   ]
  },
  {
   "cell_type": "markdown",
   "metadata": {
    "collapsed": false,
    "jupyter": {
     "outputs_hidden": false
    }
   },
   "source": [
    "Solve $L_i D = D L_i^T$"
   ]
  },
  {
   "cell_type": "code",
   "execution_count": null,
   "metadata": {
    "collapsed": false,
    "jupyter": {
     "outputs_hidden": false
    }
   },
   "outputs": [],
   "source": [
    "# Set dimension of square matrix D\n",
    "dimension = 9\n"
   ]
  },
  {
   "cell_type": "code",
   "execution_count": null,
   "metadata": {
    "collapsed": false,
    "jupyter": {
     "outputs_hidden": false
    }
   },
   "outputs": [],
   "source": [
    "# Set symbolsiables for matrix D\n",
    "for i in range(1, dimension + 1):\n",
    "    for j in range(1, dimension + 1):\n",
    "        symbols_name = f'a{i}{j}'\n",
    "        globals()[symbols_name] = symbols(symbols_name)\n",
    "# Create list of entries for matrix D\n",
    "variable_list = [globals()[f'a{m}{n}'] for m in range(1, dimension + 1) for n in range(1, dimension + 1)]\n",
    "#print(variable_list)"
   ]
  },
  {
   "cell_type": "code",
   "execution_count": null,
   "metadata": {
    "collapsed": false,
    "jupyter": {
     "outputs_hidden": false
    }
   },
   "outputs": [],
   "source": [
    "# D is matrix we are solving for\n",
    "D = Matrix(dimension, dimension, variable_list)\n",
    "#pretty_print(D)"
   ]
  },
  {
   "cell_type": "code",
   "execution_count": null,
   "metadata": {
    "collapsed": false,
    "jupyter": {
     "outputs_hidden": false
    }
   },
   "outputs": [],
   "source": [
    "# LD\n",
    "left = communicatingBlock*D\n",
    "#pretty_print(left)"
   ]
  },
  {
   "cell_type": "code",
   "execution_count": null,
   "metadata": {
    "collapsed": false,
    "jupyter": {
     "outputs_hidden": false
    },
    "scrolled": true
   },
   "outputs": [],
   "source": [
    "# D L^T\n",
    "right = D*transpose(communicatingBlock)\n",
    "#pretty_print(right)"
   ]
  },
  {
   "cell_type": "code",
   "execution_count": null,
   "metadata": {
    "collapsed": false,
    "jupyter": {
     "outputs_hidden": false
    }
   },
   "outputs": [],
   "source": [
    "equations = [left[q, r] - right[q, r] for q in range(left.rows) for r in range(left.cols)]\n",
    "\n",
    "# Print the system of equations\n",
    "print(\"System of equations:\")\n",
    "#pretty_print(equations)\n",
    "\n",
    "# Solve the system of equations\n",
    "solutions= solve(equations, variable_list)\n",
    "\n",
    "# Print the solutions\n",
    "#print(\"Solutions:\")"
   ]
  },
  {
   "cell_type": "code",
   "execution_count": null,
   "metadata": {
    "collapsed": false,
    "jupyter": {
     "outputs_hidden": false
    }
   },
   "outputs": [],
   "source": [
    "#print(solutions)"
   ]
  },
  {
   "cell_type": "code",
   "execution_count": null,
   "metadata": {
    "collapsed": false,
    "jupyter": {
     "outputs_hidden": false
    }
   },
   "outputs": [],
   "source": [
    "# define values of r1i (constants given in solutions above)\n",
    "r1 = 1\n",
    "r2 = 2\n",
    "r3 = 3\n",
    "r4 = 4\n",
    "r5 = 5\n",
    "r6 = 6"
   ]
  },
  {
   "cell_type": "code",
   "execution_count": null,
   "metadata": {
    "collapsed": false,
    "jupyter": {
     "outputs_hidden": false
    }
   },
   "outputs": [],
   "source": [
    "# FOR L2\n",
    "a11 = q^4*(r4 - r5) + r5\n",
    "a12 = r5\n",
    "a21 = r5\n",
    "a22 = r4\n",
    "\n",
    "symbolsiable_list = [globals()[f'a{m}{n}'] for m in range(1, dimension + 1) for n in range(1, dimension + 1)]"
   ]
  },
  {
   "cell_type": "code",
   "execution_count": null,
   "metadata": {
    "collapsed": false,
    "jupyter": {
     "outputs_hidden": false
    }
   },
   "outputs": [],
   "source": [
    "# FOR L3\n",
    "# set values of a, b, c, d, e, f, g, h, i\n",
    "a11 = r2\n",
    "a12 = q^8*(r1 - r3) - q^6*(r1 + r2 - 2*r3) - q^4*(r2 - r3) + q^2*(r2 - r3) + r2\n",
    "a13 = r3\n",
    "a21 = q^8*(r1 - r3) - q^6*(r1 + r2 - 2*r3) - q^4*(r2 - r3) + q^2*(r2 - r3) + r2\n",
    "a22 = -q^12*(r1 - r3) + q^10*(r1 + r2 - 2*r3) + q^8*(2*r1 + r2 - 3*r3) - q^6*(r1 + 2*r2 - 3*r3) - 2*q^4*(r2 - r3) + q^2*(r2 - r3) + r2\n",
    "a23 = -q^6*(r1 - r3) + q^4*(r2 - r3) + 2*q^2*(r2 - r3) + r2\n",
    "a31 = r3\n",
    "a32 = -q^6*(r1 - r3) + q^4*(r2 - r3) + 2*q^2*(r2 - r3) + r2\n",
    "a33 = r1\n",
    "\n",
    "symbolsiable_list = [globals()[f'a{m}{n}'] for m in range(1, dimension + 1) for n in range(1, dimension + 1)]"
   ]
  },
  {
   "cell_type": "code",
   "execution_count": null,
   "metadata": {
    "collapsed": false,
    "jupyter": {
     "outputs_hidden": false
    }
   },
   "outputs": [],
   "source": [
    "# FOR L4\n",
    "a11 = r1\n",
    "a12 = r2\n",
    "a13 = r3\n",
    "a14 = r4\n",
    "a21 = r5\n",
    "a22 = r6\n",
    "a23 = q^4*(r1 - r5) + r4 + r5 - r6\n",
    "a24 = q^4*(r2 + r3 - r4 - r5) + r4\n",
    "a31 = r2 + r3 - r5\n",
    "a32 = q^4*(r1 - r2) + r2 + r4 - r6\n",
    "a33 = -q^4*(r3 - r5) + r3 - r5 + r6\n",
    "a34 = -q^4*(r4 - r5) + r4\n",
    "a41 = r4\n",
    "a42 = q^4*(r3 - r4) + r4\n",
    "a43 = q^4*(r2 - r4) + r4\n",
    "a44 = q^8*(r1 - r2 - r3 + r4) + q^4*(r2 + r3 - 2*r4) + r4\n",
    "\n",
    "symbolsiable_list = [globals()[f'a{m}{n}'] for m in range(1, dimension + 1) for n in range(1, dimension + 1)]"
   ]
  },
  {
   "cell_type": "code",
   "execution_count": null,
   "metadata": {
    "collapsed": false,
    "jupyter": {
     "outputs_hidden": false
    }
   },
   "outputs": [],
   "source": [
    "# test if the new matrix D creates LD = DL^T\n",
    "D = Matrix(SR, dimension, dimension, symbolsiable_list)\n",
    "#pretty_print(\"D =\")\n",
    "#pretty_print(D)\n",
    "\n",
    "#print(\"LD = \")\n",
    "#pretty_print(communicatingBlock*D)\n",
    "\n",
    "#print(\"DL^T = \")\n",
    "#pretty_print(D*transpose(communicatingBlock))\n"
   ]
  },
  {
   "cell_type": "markdown",
   "metadata": {
    "collapsed": false,
    "jupyter": {
     "outputs_hidden": false
    }
   },
   "source": [
    "Find left eigenvector (stationary distribution) for eigenvalue 0 for communicatingBlock\n"
   ]
  },
  {
   "cell_type": "code",
   "execution_count": null,
   "metadata": {
    "collapsed": false,
    "jupyter": {
     "outputs_hidden": false
    }
   },
   "outputs": [],
   "source": [
    "x_homogeneous = communicatingBlock.left_kernel().basis()"
   ]
  },
  {
   "cell_type": "code",
   "execution_count": null,
   "metadata": {
    "collapsed": false,
    "jupyter": {
     "outputs_hidden": false
    }
   },
   "outputs": [],
   "source": [
    "result = [element * communicatingBlock for element in x_homogeneous]\n",
    "#pretty_print(simplify(result))"
   ]
  },
  {
   "cell_type": "code",
   "execution_count": null,
   "metadata": {
    "collapsed": false,
    "jupyter": {
     "outputs_hidden": false
    }
   },
   "outputs": [],
   "source": [
    "#print(result)"
   ]
  }
 ],
 "metadata": {
  "kernelspec": {
   "display_name": "Python 3 (ipykernel)",
   "language": "python",
   "name": "python3"
  },
  "language_info": {
   "codemirror_mode": {
    "name": "ipython",
    "version": 3
   },
   "file_extension": ".py",
   "mimetype": "text/x-python",
   "name": "python",
   "nbconvert_exporter": "python",
   "pygments_lexer": "ipython3",
   "version": "3.11.7"
  }
 },
 "nbformat": 4,
 "nbformat_minor": 4
}
